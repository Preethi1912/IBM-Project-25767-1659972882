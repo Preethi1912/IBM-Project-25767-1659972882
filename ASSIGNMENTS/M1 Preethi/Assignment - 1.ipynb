{
 "cells": [
  {
   "cell_type": "markdown",
   "id": "b4742434",
   "metadata": {},
   "source": [
    "<h1>Basic python</h1>\n"
   ]
  },
  {
   "cell_type": "markdown",
   "id": "de1083bd",
   "metadata": {},
   "source": [
    "<h2>1. Split this string</h2>"
   ]
  },
  {
   "cell_type": "code",
   "execution_count": 3,
   "id": "9c737814",
   "metadata": {
    "scrolled": true
   },
   "outputs": [
    {
     "name": "stdout",
     "output_type": "stream",
     "text": [
      "Hi\n",
      "there\n",
      "Sam!\n"
     ]
    }
   ],
   "source": [
    "s = \"Hi there Sam!\"\n",
    "s_list = s.split(\" \")\n",
    "for i in s_list:\n",
    "  print(i)"
   ]
  },
  {
   "cell_type": "markdown",
   "id": "8a3ce33d",
   "metadata": {},
   "source": [
    "<h1>2. Use .format() to print the following string.</h1>"
   ]
  },
  {
   "cell_type": "markdown",
   "id": "20532d7b",
   "metadata": {},
   "source": [
    "<h2>Output should be: The diameter of Earth is 12742 kilometers.</h2>"
   ]
  },
  {
   "cell_type": "code",
   "execution_count": null,
   "id": "38307ca0",
   "metadata": {},
   "outputs": [],
   "source": [
    "planet = \"Earth\"\n",
    "diameter = 12742"
   ]
  },
  {
   "cell_type": "code",
   "execution_count": 12,
   "id": "108f39d1",
   "metadata": {},
   "outputs": [
    {
     "name": "stdout",
     "output_type": "stream",
     "text": [
      "The diameter of Earth is 12742 kilometers\n"
     ]
    }
   ],
   "source": [
    "result = \"The diameter of {Name} is {Value} kilometers\". format(Name = planet, Value = diameter)\n",
    "print(result)"
   ]
  },
  {
   "cell_type": "markdown",
   "id": "c434806c",
   "metadata": {},
   "source": [
    "<h1>3. In this nest dictionary grab the word \"hello\"</h1>"
   ]
  },
  {
   "cell_type": "code",
   "execution_count": 15,
   "id": "216fbf39",
   "metadata": {},
   "outputs": [],
   "source": [
    "d = {'k1':[1,2,3,{'tricky':['oh','man','inception',{'target':[1,2,3,'hello']}]}]}"
   ]
  },
  {
   "cell_type": "code",
   "execution_count": 16,
   "id": "7773f39a",
   "metadata": {},
   "outputs": [
    {
     "name": "stdout",
     "output_type": "stream",
     "text": [
      "hello\n"
     ]
    }
   ],
   "source": [
    "print(d['k1'][3]['tricky'][3]['target'][3])"
   ]
  },
  {
   "cell_type": "markdown",
   "id": "c76db5d0",
   "metadata": {},
   "source": [
    "<h1>Numpy</h1>"
   ]
  },
  {
   "cell_type": "markdown",
   "id": "8602d4f6",
   "metadata": {},
   "source": [
    "<h2> 4.1 Create an array of 10 zeros?</h2>\n"
   ]
  },
  {
   "cell_type": "markdown",
   "id": "e9212d31",
   "metadata": {},
   "source": [
    "<h2>4.2 Create an array of 10 fives?</h2> "
   ]
  },
  {
   "cell_type": "code",
   "execution_count": 21,
   "id": "db6f4111",
   "metadata": {},
   "outputs": [
    {
     "name": "stdout",
     "output_type": "stream",
     "text": [
      "[0. 0. 0. 0. 0. 0. 0. 0. 0. 0.]\n"
     ]
    }
   ],
   "source": [
    "import numpy as np\n",
    "arr1 = np.zeros(10)\n",
    "print(arr1)"
   ]
  },
  {
   "cell_type": "code",
   "execution_count": 22,
   "id": "2908c741",
   "metadata": {},
   "outputs": [
    {
     "name": "stdout",
     "output_type": "stream",
     "text": [
      "[5. 5. 5. 5. 5. 5. 5. 5. 5. 5.]\n"
     ]
    }
   ],
   "source": [
    "arr2 = np.ones(10)*5\n",
    "print(arr2)"
   ]
  },
  {
   "cell_type": "markdown",
   "id": "3e51b61a",
   "metadata": {},
   "source": [
    "<h1>5. Create an array of all the even integers from 20 to 35</h1>"
   ]
  },
  {
   "cell_type": "code",
   "execution_count": 23,
   "id": "8e05cbba",
   "metadata": {},
   "outputs": [
    {
     "name": "stdout",
     "output_type": "stream",
     "text": [
      "[20 22 24 26 28 30 32 34]\n"
     ]
    }
   ],
   "source": [
    "arr3 = np.arange(20,35,2)\n",
    "print(arr3)"
   ]
  },
  {
   "cell_type": "markdown",
   "id": "843d604d",
   "metadata": {},
   "source": [
    "<h1>6. Create a 3x3 matrix with values ranging from 0 to 8</h1>"
   ]
  },
  {
   "cell_type": "code",
   "execution_count": 25,
   "id": "24dd8e17",
   "metadata": {},
   "outputs": [
    {
     "name": "stdout",
     "output_type": "stream",
     "text": [
      "[[0 1 2]\n",
      " [3 4 5]\n",
      " [6 7 8]]\n"
     ]
    }
   ],
   "source": [
    "arr4 = np.arange(0,9).reshape(3,3)\n",
    "print(arr4)"
   ]
  },
  {
   "cell_type": "markdown",
   "id": "2fa62b74",
   "metadata": {},
   "source": [
    "<h1>7. Concatinate a and b</h1>"
   ]
  },
  {
   "cell_type": "markdown",
   "id": "c8fd8df0",
   "metadata": {},
   "source": [
    "<h2>a = np.array([1, 2, 3]), b = np.array([4, 5, 6])</h2>"
   ]
  },
  {
   "cell_type": "code",
   "execution_count": 26,
   "id": "ea5578d1",
   "metadata": {},
   "outputs": [
    {
     "name": "stdout",
     "output_type": "stream",
     "text": [
      "[1 2 3 4 5 6]\n"
     ]
    }
   ],
   "source": [
    "a = np.array([1, 2, 3])\n",
    "b = np.array([4, 5, 6])\n",
    "arr5 = np.concatenate((a, b))\n",
    "print(arr5)"
   ]
  },
  {
   "cell_type": "markdown",
   "id": "6cb16f17",
   "metadata": {},
   "source": [
    " <h1>Pandas</h1>"
   ]
  },
  {
   "cell_type": "markdown",
   "id": "3471ffc2",
   "metadata": {},
   "source": [
    "<h2>8. Create a dataframe with 3 rows and 2 columns</h2>"
   ]
  },
  {
   "cell_type": "code",
   "execution_count": 29,
   "id": "6457614c",
   "metadata": {},
   "outputs": [
    {
     "name": "stdout",
     "output_type": "stream",
     "text": [
      "    A   B\n",
      "0  55  27\n",
      "1  27  77\n",
      "2  31  57\n"
     ]
    }
   ],
   "source": [
    "import pandas as pd\n",
    "res = pd.DataFrame(np.random.randint(0,100,size=(3, 2)), columns=list('AB'))\n",
    "print(res)"
   ]
  },
  {
   "cell_type": "markdown",
   "id": "b9bc74f1",
   "metadata": {},
   "source": [
    "<h1>9. Generate the series of dates from 1st Jan, 2023 to 10th Feb, 2023</h1>"
   ]
  },
  {
   "cell_type": "code",
   "execution_count": 30,
   "id": "19683334",
   "metadata": {},
   "outputs": [
    {
     "name": "stdout",
     "output_type": "stream",
     "text": [
      "2023-01-01 00:00:00\n",
      "2023-01-11 00:00:00\n",
      "2023-01-21 00:00:00\n",
      "2023-01-31 00:00:00\n",
      "2023-02-10 00:00:00\n",
      "2023-02-20 00:00:00\n",
      "2023-03-02 00:00:00\n",
      "2023-03-12 00:00:00\n",
      "2023-03-22 00:00:00\n",
      "2023-04-01 00:00:00\n",
      "2023-04-11 00:00:00\n",
      "2023-04-21 00:00:00\n",
      "2023-05-01 00:00:00\n"
     ]
    }
   ],
   "source": [
    "import pandas as pd \n",
    "date = pd.date_range(start ='1-1-2023', end ='5-10-2023', freq ='10D')\n",
    "  \n",
    "for val in date:\n",
    "    print(val)"
   ]
  },
  {
   "cell_type": "markdown",
   "id": "4fccf9ff",
   "metadata": {},
   "source": [
    "<h1>10. Create 2D list to DataFrame</h1>"
   ]
  },
  {
   "cell_type": "code",
   "execution_count": 32,
   "id": "633e1364",
   "metadata": {},
   "outputs": [
    {
     "name": "stdout",
     "output_type": "stream",
     "text": [
      "   SNo. Name  Age\n",
      "0     1  aaa   22\n",
      "1     2  bbb   25\n",
      "2     3  ccc   24\n"
     ]
    }
   ],
   "source": [
    "lst = [[1, 'aaa', 22], [2, 'bbb', 25], [3, 'ccc', 24]]\n",
    "import pandas as pd\n",
    "df = pd.DataFrame(lst, columns =['SNo.', 'Name', 'Age']) \n",
    "print(df)"
   ]
  }
 ],
 "metadata": {
  "kernelspec": {
   "display_name": "Python 3 (ipykernel)",
   "language": "python",
   "name": "python3"
  },
  "language_info": {
   "codemirror_mode": {
    "name": "ipython",
    "version": 3
   },
   "file_extension": ".py",
   "mimetype": "text/x-python",
   "name": "python",
   "nbconvert_exporter": "python",
   "pygments_lexer": "ipython3",
   "version": "3.9.13"
  }
 },
 "nbformat": 4,
 "nbformat_minor": 5
}
